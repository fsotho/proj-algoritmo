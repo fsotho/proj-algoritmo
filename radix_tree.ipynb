{
 "cells": [
  {
   "cell_type": "markdown",
   "metadata": {},
   "source": [
    "PARTE 1 - LENDO UMA PÁGINA E CRIANDO ARVORE"
   ]
  },
  {
   "cell_type": "code",
   "execution_count": 94,
   "metadata": {},
   "outputs": [
    {
     "name": "stdout",
     "output_type": "stream",
     "text": [
      "Livro lido:  https://www.gutenberg.org/cache/epub/67831/pg67831.txt\n",
      "- QTE total de palavras: 33630\n",
      "- QTE palavras com 3+ letras: 11244\n"
     ]
    }
   ],
   "source": [
    "# Codigo para fazer o crawler de uma pagina\n",
    "\n",
    "import requests\n",
    "\n",
    "# print(\"Insira o URL para varredura:\")\n",
    "# url = input()  \n",
    "\n",
    "\n",
    "# Crawler: Pata da Gazela \n",
    "\n",
    "url = \"https://www.gutenberg.org/cache/epub/67831/pg67831.txt\"\n",
    "req = requests.get(url)\n",
    "req.close()\n",
    "req.text\n",
    "\n",
    "print(\"Livro lido: \", url)\n",
    "\n",
    "text = req.text.replace(\"\\n\",\"\").replace(\"\\r\",\"\").replace(\"\\ufeff\",\"\")\n",
    "text = text.upper()\n",
    "\n",
    "\n",
    "# QTE de palavras na lista\n",
    "word_list = text.split(\" \")\n",
    "print(\"- QTE total de palavras:\", len(word_list))\n",
    "\n",
    "\n",
    "# QTE de palavras na lista com +3 caracteres\n",
    "word_set = {x for x in word_list if len(x) >= 3}\n",
    "print(\"- QTE palavras com 3+ letras:\", len(word_set))"
   ]
  },
  {
   "cell_type": "code",
   "execution_count": 95,
   "metadata": {},
   "outputs": [
    {
     "data": {
      "text/plain": [
       "True"
      ]
     },
     "execution_count": 95,
     "metadata": {},
     "output_type": "execute_result"
    }
   ],
   "source": [
    "# Criando arvore com a página crawleada\n",
    "\n",
    "from Tree import Trie\n",
    "\n",
    "# Funcao para criar arvore com o word_set\n",
    "trie_tree = Trie()\n",
    "trie_tree.add_wordlist(list(word_set))"
   ]
  },
  {
   "cell_type": "markdown",
   "metadata": {},
   "source": [
    "PARTE 2 - FAZENDO O CRAWLER DE UM RANGE DE PAGINAS"
   ]
  },
  {
   "cell_type": "code",
   "execution_count": 96,
   "metadata": {},
   "outputs": [
    {
     "name": "stdout",
     "output_type": "stream",
     "text": [
      "['https://www.gutenberg.org/cache/epub/23300/pg23300.txt', 'https://www.gutenberg.org/cache/epub/23301/pg23301.txt', 'https://www.gutenberg.org/cache/epub/23302/pg23302.txt', 'https://www.gutenberg.org/cache/epub/23303/pg23303.txt', 'https://www.gutenberg.org/cache/epub/23304/pg23304.txt', 'https://www.gutenberg.org/cache/epub/23305/pg23305.txt', 'https://www.gutenberg.org/cache/epub/23306/pg23306.txt', 'https://www.gutenberg.org/cache/epub/23307/pg23307.txt', 'https://www.gutenberg.org/cache/epub/23308/pg23308.txt', 'https://www.gutenberg.org/cache/epub/23309/pg23309.txt']\n"
     ]
    }
   ],
   "source": [
    "# Codigo para fazer uma lista das paginas a serem crawleadas\n",
    "\n",
    "base_url = \"https://www.gutenberg.org/cache/epub/\"\n",
    "url_list = [base_url+f\"{x}/pg{x}.txt\" for x in range(23300,23310)]\n",
    "print(url_list)"
   ]
  },
  {
   "cell_type": "code",
   "execution_count": 97,
   "metadata": {},
   "outputs": [
    {
     "ename": "NameError",
     "evalue": "name 'rq' is not defined",
     "output_type": "error",
     "traceback": [
      "\u001b[1;31m---------------------------------------------------------------------------\u001b[0m",
      "\u001b[1;31mNameError\u001b[0m                                 Traceback (most recent call last)",
      "\u001b[1;32mc:\\Users\\othof\\Documents\\Projects in Development\\Complexidade\\proj-algoritmo\\radix_tree.ipynb Cell 6'\u001b[0m in \u001b[0;36m<cell line: 3>\u001b[1;34m()\u001b[0m\n\u001b[0;32m      <a href='vscode-notebook-cell:/c%3A/Users/othof/Documents/Projects%20in%20Development/Complexidade/proj-algoritmo/radix_tree.ipynb#ch0000006?line=0'>1</a>\u001b[0m \u001b[39mfrom\u001b[39;00m \u001b[39mTree\u001b[39;00m \u001b[39mimport\u001b[39;00m Trie\n\u001b[0;32m      <a href='vscode-notebook-cell:/c%3A/Users/othof/Documents/Projects%20in%20Development/Complexidade/proj-algoritmo/radix_tree.ipynb#ch0000006?line=2'>3</a>\u001b[0m \u001b[39mfor\u001b[39;00m url \u001b[39min\u001b[39;00m url_list:\n\u001b[1;32m----> <a href='vscode-notebook-cell:/c%3A/Users/othof/Documents/Projects%20in%20Development/Complexidade/proj-algoritmo/radix_tree.ipynb#ch0000006?line=3'>4</a>\u001b[0m     trie_tree\u001b[39m.\u001b[39;49madd_url(url)\n\u001b[0;32m      <a href='vscode-notebook-cell:/c%3A/Users/othof/Documents/Projects%20in%20Development/Complexidade/proj-algoritmo/radix_tree.ipynb#ch0000006?line=4'>5</a>\u001b[0m     \u001b[39mprint\u001b[39m(\u001b[39mf\u001b[39m\u001b[39m\"\u001b[39m\u001b[39mDone URL: \u001b[39m\u001b[39m{\u001b[39;00murl\u001b[39m}\u001b[39;00m\u001b[39m\"\u001b[39m)\n\u001b[0;32m      <a href='vscode-notebook-cell:/c%3A/Users/othof/Documents/Projects%20in%20Development/Complexidade/proj-algoritmo/radix_tree.ipynb#ch0000006?line=6'>7</a>\u001b[0m trie_tree\u001b[39m.\u001b[39mdisplay_word(\u001b[39m\"\u001b[39m\u001b[39mthe\u001b[39m\u001b[39m\"\u001b[39m)\n",
      "File \u001b[1;32mc:\\Users\\othof\\Documents\\Projects in Development\\Complexidade\\proj-algoritmo\\Tree.py:59\u001b[0m, in \u001b[0;36madd_url\u001b[1;34m(self, url)\u001b[0m\n\u001b[0;32m     <a href='file:///c%3A/Users/othof/Documents/Projects%20in%20Development/Complexidade/proj-algoritmo/Tree.py?line=55'>56</a>\u001b[0m \u001b[39mdef\u001b[39;00m \u001b[39madd_url\u001b[39m(\u001b[39mself\u001b[39m, url):\n\u001b[0;32m     <a href='file:///c%3A/Users/othof/Documents/Projects%20in%20Development/Complexidade/proj-algoritmo/Tree.py?line=57'>58</a>\u001b[0m     text \u001b[39m=\u001b[39m rq\u001b[39m.\u001b[39mget(url)\u001b[39m.\u001b[39mtext\n\u001b[1;32m---> <a href='file:///c%3A/Users/othof/Documents/Projects%20in%20Development/Complexidade/proj-algoritmo/Tree.py?line=58'>59</a>\u001b[0m     text \u001b[39m=\u001b[39m text\u001b[39m.\u001b[39mreplace(\u001b[39m\"\u001b[39m\u001b[39m\\n\u001b[39;00m\u001b[39m\"\u001b[39m,\u001b[39m\"\u001b[39m\u001b[39m\"\u001b[39m)\u001b[39m.\u001b[39mreplace(\u001b[39m\"\u001b[39m\u001b[39m\\r\u001b[39;00m\u001b[39m\"\u001b[39m,\u001b[39m\"\u001b[39m\u001b[39m\"\u001b[39m)\u001b[39m.\u001b[39mreplace(\u001b[39m\"\u001b[39m\u001b[39m\\ufeff\u001b[39;00m\u001b[39m\"\u001b[39m,\u001b[39m\"\u001b[39m\u001b[39m\"\u001b[39m)\u001b[39m.\u001b[39mupper()\n\u001b[0;32m     <a href='file:///c%3A/Users/othof/Documents/Projects%20in%20Development/Complexidade/proj-algoritmo/Tree.py?line=59'>60</a>\u001b[0m     word_list \u001b[39m=\u001b[39m text\u001b[39m.\u001b[39msplit(\u001b[39m\"\u001b[39m\u001b[39m \u001b[39m\u001b[39m\"\u001b[39m)\n\u001b[0;32m     <a href='file:///c%3A/Users/othof/Documents/Projects%20in%20Development/Complexidade/proj-algoritmo/Tree.py?line=61'>62</a>\u001b[0m     \u001b[39mfor\u001b[39;00m word \u001b[39min\u001b[39;00m word_list:\n",
      "\u001b[1;31mNameError\u001b[0m: name 'rq' is not defined"
     ]
    }
   ],
   "source": [
    "from Tree import Trie\n",
    "\n",
    "for url in url_list:\n",
    "    trie_tree.add_url(url)\n",
    "    print(f\"Done URL: {url}\")\n",
    "    \n",
    "trie_tree.display_word(\"the\")"
   ]
  },
  {
   "cell_type": "code",
   "execution_count": 64,
   "metadata": {},
   "outputs": [
    {
     "name": "stdout",
     "output_type": "stream",
     "text": [
      "11244\n"
     ]
    }
   ],
   "source": [
    "#del(word_set)\n",
    "print(len(word_set))"
   ]
  },
  {
   "cell_type": "code",
   "execution_count": 49,
   "metadata": {},
   "outputs": [
    {
     "name": "stdout",
     "output_type": "stream",
     "text": [
      "Palavra não localizada\n"
     ]
    },
    {
     "data": {
      "text/plain": [
       "True"
      ]
     },
     "execution_count": 49,
     "metadata": {},
     "output_type": "execute_result"
    }
   ],
   "source": [
    "trie_tree.display_word(\"FAVORECIDO\")"
   ]
  },
  {
   "cell_type": "code",
   "execution_count": null,
   "metadata": {},
   "outputs": [],
   "source": [
    "dir(child)\n",
    "\n",
    "child.url_list"
   ]
  },
  {
   "cell_type": "code",
   "execution_count": 25,
   "metadata": {},
   "outputs": [],
   "source": [
    "# Deletar lista de palavras da árvore\n",
    "del(word_set)\n",
    "\n",
    "# Deletar lista de palavras das páginas crawleadas\n",
    "del(word_list)"
   ]
  }
 ],
 "metadata": {
  "interpreter": {
   "hash": "3267bc8267580816cee56be83e33549a2bea621fae51c0203f09c9774cbf0cb4"
  },
  "kernelspec": {
   "display_name": "Python 3.10.4 64-bit (windows store)",
   "language": "python",
   "name": "python3"
  },
  "language_info": {
   "codemirror_mode": {
    "name": "ipython",
    "version": 3
   },
   "file_extension": ".py",
   "mimetype": "text/x-python",
   "name": "python",
   "nbconvert_exporter": "python",
   "pygments_lexer": "ipython3",
   "version": "3.10.4"
  },
  "orig_nbformat": 4
 },
 "nbformat": 4,
 "nbformat_minor": 2
}
